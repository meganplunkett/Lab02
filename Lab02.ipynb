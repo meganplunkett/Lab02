{
  "cells": [
    {
      "cell_type": "code",
      "execution_count": null,
      "metadata": {
        "id": "EtnaSlH-wplB"
      },
      "outputs": [],
      "source": [
        "# created on Dec 24, 2020\n",
        "# modified on April 12, 2022\n",
        "# @author:          Bo Zhao\n",
        "# @email:           zhaobo@uw.edu\n",
        "# @website:         https://hgis.uw.edu\n",
        "# @organization:    Department of Geography, University of Washington, Seattle\n",
        "# @description:     Search geo-tagged tweets within the U.S. This script is modified from https://github.com/shawn-terryah/Twitter_Geolocation"
      ]
    },
    {
      "cell_type": "code",
      "execution_count": null,
      "metadata": {
        "id": "f-bMdKMawxnQ",
        "colab": {
          "base_uri": "https://localhost:8080/"
        },
        "outputId": "b40a7bb0-6703-45d0-8560-c0b5aa6ad58c"
      },
      "outputs": [
        {
          "output_type": "stream",
          "name": "stdout",
          "text": [
            "Drive already mounted at /gdrive; to attempt to forcibly remount, call drive.mount(\"/gdrive\", force_remount=True).\n"
          ]
        }
      ],
      "source": [
        "import tweepy, json, time\n",
        "import pandas as pd\n",
        "from google.colab import files\n",
        "# Create data on to Google Drive\n",
        "from google.colab import drive\n",
        "# Mount your Drive to the Colab VM.\n",
        "drive.mount('/gdrive')"
      ]
    },
    {
      "cell_type": "code",
      "execution_count": null,
      "metadata": {
        "id": "dEyPts-ZwplE"
      },
      "outputs": [],
      "source": [
        "class StreamListener(tweepy.StreamListener):\n",
        "    \"\"\"tweepy.StreamListener is a class provided by tweepy used to access\n",
        "    the Twitter Streaming API to collect tweets in real-time.\n",
        "    \"\"\"\n",
        "\n",
        "    def __init__(self, time_limit=60, file=\"\"):\n",
        "        \"\"\"class initialization\"\"\"\n",
        "        self.start_time = time.time()\n",
        "        self.limit = time_limit\n",
        "        self.result = []\n",
        "        self.f = file\n",
        "        super(StreamListener, self).__init__()\n",
        "\n",
        "    def on_data(self, data):\n",
        "        \"\"\"This is called when data are streamed in.\"\"\"\n",
        "        if (time.time() - self.start_time) < self.limit:\n",
        "            datajson = json.loads(data)\n",
        "            # print(datajson, \"\\n\")\n",
        "            if 'id' not in datajson.keys():\n",
        "                time.sleep(10)\n",
        "            else:\n",
        "                id = datajson['id']\n",
        "                username = datajson['user']['screen_name']\n",
        "                created_at = datajson['created_at']\n",
        "                text = datajson['text'].strip().replace(\"\\n\", \"\")\n",
        "\n",
        "                # process the geo-tags\n",
        "                if datajson['coordinates'] == None:\n",
        "                    try:\n",
        "                        bbox = datajson['place']['bounding_box']['coordinates'][0]\n",
        "                        lng = (bbox[0][0] + bbox[2][0]) / 2.0\n",
        "                        lat = (bbox[0][1] + bbox[1][1]) / 2.0\n",
        "                    except:\n",
        "                        lat = 0\n",
        "                        lng = 0\n",
        "                else:\n",
        "                    lng = datajson['coordinates']['coordinates'][0]\n",
        "                    lat = datajson['coordinates']['coordinates'][1]\n",
        "\n",
        "                if lat != 0:\n",
        "                    row = {\n",
        "                        'id': id,\n",
        "                        'username': username,\n",
        "                        'created_at': created_at,\n",
        "                        'lng': lng,\n",
        "                        'lat': lat,\n",
        "                        'text': text\n",
        "                    }\n",
        "                    print(row)\n",
        "                    self.result.append(row)\n",
        "                else:\n",
        "                    pass\n",
        "        else:\n",
        "            df = pd.DataFrame(self.result)\n",
        "            df.to_csv(self.f, index=False)\n",
        "            # download the csv to your local computer\n",
        "            files.download(self.f)\n",
        "            print(\"the csv has been downloaded to your local computer. The program has been completed successfully.\")\n",
        "            return False"
      ]
    },
    {
      "cell_type": "code",
      "execution_count": null,
      "metadata": {
        "id": "5Xzyo_OiwplG",
        "colab": {
          "base_uri": "https://localhost:8080/",
          "height": 1000
        },
        "outputId": "49506150-0919-45bf-8f2e-0fb2c45191b1"
      },
      "outputs": [
        {
          "output_type": "stream",
          "name": "stdout",
          "text": [
            "{'id': 1517592512092901376, 'username': 'LOUfromMemphis', 'created_at': 'Fri Apr 22 19:53:45 +0000 2022', 'lng': -85.9785995, 'lat': 35.8305215, 'text': '@ClayTravis Again, the democratic Party and their media lap dogs will prop him up no matter what. He could be dead… https://t.co/run4wPeDoH'}\n",
            "{'id': 1517592531164450817, 'username': '1991Mkb', 'created_at': 'Fri Apr 22 19:53:49 +0000 2022', 'lng': -86.6807375, 'lat': 32.576227, 'text': 'Lord. So here I am, just sitting on my porch watching Bryan as he cuts the grass. And lmaoooo I look across the str… https://t.co/lkj35JrOzL'}\n",
            "{'id': 1517592542711361539, 'username': 'JessAlv00923584', 'created_at': 'Fri Apr 22 19:53:52 +0000 2022', 'lng': -91.06646, 'lat': 30.3878805, 'text': 'Share a useful appShare a useful app, File Master - document manager https://t.co/oDMkfk5Qi2 https://t.co/jaI7qOmYqt'}\n",
            "{'id': 1517592625846665217, 'username': 'UMMC_Transplant', 'created_at': 'Fri Apr 22 19:54:12 +0000 2022', 'lng': -90.1580165, 'lat': 32.230987, 'text': 'Almost 3000 lives saved!'}\n",
            "{'id': 1517592643156459531, 'username': 'RyanVargas_23', 'created_at': 'Fri Apr 22 19:54:16 +0000 2022', 'lng': -86.6807375, 'lat': 32.576227, 'text': 'New hero card alert🤝 https://t.co/uuAYAPewqN'}\n",
            "{'id': 1517592658369150977, 'username': 'tmj_mem_writing', 'created_at': 'Fri Apr 22 19:54:19 +0000 2022', 'lng': -90.0489801, 'lat': 35.1495343, 'text': 'Click the link in our bio to see currently open #SkilledTrade jobs like \"Warehouse Package Handler\" at FedEx Express in #Memphis, TN.'}\n",
            "{'id': 1517592919615623175, 'username': 'ty1of1', 'created_at': 'Fri Apr 22 19:55:22 +0000 2022', 'lng': -91.40100849999999, 'lat': 30.937336000000002, 'text': 'Who said that?😒😒😒 don’t nothing in the world top that bob!'}\n",
            "{'id': 1517592941103132677, 'username': 'Maria_ruizxx', 'created_at': 'Fri Apr 22 19:55:27 +0000 2022', 'lng': -89.92202900000001, 'lat': 35.1335205, 'text': 'Wait but what about going sky diving for my birthday \\U0001f972'}\n",
            "{'id': 1517592963299397634, 'username': 'thadmcintyre', 'created_at': 'Fri Apr 22 19:55:32 +0000 2022', 'lng': -88.9791917, 'lat': 30.4321963, 'text': 'We are looking for a buyer on 2343 Rue Maison #Biloxi #MS  #realestate https://t.co/R5gBDmslC5 https://t.co/GmrSNhaxx1'}\n",
            "{'id': 1517593011856814080, 'username': 'myidolismyrival', 'created_at': 'Fri Apr 22 19:55:44 +0000 2022', 'lng': -89.87644900000001, 'lat': 32.571032, 'text': 'I need 10 mil right now, but I’ll just take this $100 out the atm for a Friday 😂'}\n",
            "{'id': 1517593034350899200, 'username': 'TyWeezy_', 'created_at': 'Fri Apr 22 19:55:49 +0000 2022', 'lng': -91.0907995, 'lat': 30.4591, 'text': 'I gotta update my phone all i see is booku question marks'}\n",
            "{'id': 1517593037836369921, 'username': 'HeightsTiger', 'created_at': 'Fri Apr 22 19:55:50 +0000 2022', 'lng': -91.40100849999999, 'lat': 30.937336000000002, 'text': '@michaelschwab13 Blummer aisle'}\n",
            "{'id': 1517593046531121153, 'username': 'SaniyahX', 'created_at': 'Fri Apr 22 19:55:52 +0000 2022', 'lng': -89.92202900000001, 'lat': 35.1335205, 'text': '@JerseySuave4 Love it!'}\n",
            "{'id': 1517593100314628096, 'username': 'SBurton615', 'created_at': 'Fri Apr 22 19:56:05 +0000 2022', 'lng': -85.9785995, 'lat': 35.8305215, 'text': 'Local @wcsRHSfootball star could have a big year at Clemson.'}\n",
            "{'id': 1517593116265484288, 'username': 'tmj_mgm_labor', 'created_at': 'Fri Apr 22 19:56:09 +0000 2022', 'lng': -86.7483318, 'lat': 34.6992579, 'text': \"Looking to score a job at Cintas Corporation? You're in luck. Click the link in our bio for the job description and… https://t.co/lyvrfcefgC\"}\n",
            "{'id': 1517593155029409799, 'username': 'schofieldkid249', 'created_at': 'Fri Apr 22 19:56:18 +0000 2022', 'lng': -92.13127399999999, 'lat': 34.7519365, 'text': \"Heeere's Johnny!\"}\n",
            "{'id': 1517593266983776256, 'username': 'seancorr82_8_48', 'created_at': 'Fri Apr 22 19:56:45 +0000 2022', 'lng': -86.6807375, 'lat': 32.576227, 'text': 'Getting ready to roll at @TALLADEGA for the @ARCA_Racing practice session https://t.co/tOq4rusl3U'}\n",
            "{'id': 1517593281429118976, 'username': 'ru4usm2', 'created_at': 'Fri Apr 22 19:56:48 +0000 2022', 'lng': -90.15517249999999, 'lat': 32.229113, 'text': 'Heck yes. @eaglems686 #PackThePete #SMTTT #EverythingMatters #TalonsUp'}\n",
            "{'id': 1517593306087186434, 'username': 'nicole_dwight', 'created_at': 'Fri Apr 22 19:56:54 +0000 2022', 'lng': -85.9785995, 'lat': 35.8305215, 'text': 'I am cackling over here! How did I miss this?!?! 💀💀〽️〽️〽️〽️〽️💕✨💙@memgrizz'}\n",
            "{'id': 1517593339708727301, 'username': 'AftonAphmau', 'created_at': 'Fri Apr 22 19:57:02 +0000 2022', 'lng': -92.13127399999999, 'lat': 34.7519365, 'text': '@IronBloodleader @TheMadGalaxy Z73: lonely'}\n",
            "{'id': 1517593351511547904, 'username': 'AshCademic', 'created_at': 'Fri Apr 22 19:57:05 +0000 2022', 'lng': -91.0907995, 'lat': 30.4591, 'text': 'Took my dad to his first @LSUbaseball game last night and we were able to see 2 home runs ⚾️ Although he is pretty… https://t.co/r8BDtVxRgn'}\n",
            "{'id': 1517593422105882624, 'username': 'Girl93Bama', 'created_at': 'Fri Apr 22 19:57:22 +0000 2022', 'lng': -86.6807375, 'lat': 32.576227, 'text': '@HarleyHoney91 I would be happy to send you some.  I got a mixture but of course you can get all kinds of flavors.… https://t.co/g9TxtWG11o'}\n",
            "{'id': 1517593434961424402, 'username': 'Charress', 'created_at': 'Fri Apr 22 19:57:25 +0000 2022', 'lng': -88.16155549999999, 'lat': 30.683649, 'text': 'Earth Day: the country’s biggest polluters are right here in the South, and they are misleading us all.Each compan… https://t.co/KuZNxJYRpB'}\n",
            "{'id': 1517593474941562881, 'username': 'schofieldkid249', 'created_at': 'Fri Apr 22 19:57:34 +0000 2022', 'lng': -92.13127399999999, 'lat': 34.7519365, 'text': 'Preach. ✊'}\n",
            "{'id': 1517593488447229960, 'username': 'Jasmine_H12', 'created_at': 'Fri Apr 22 19:57:37 +0000 2022', 'lng': -86.6807375, 'lat': 32.576227, 'text': 'Cause why they out of stock on all the Marc Jacob bags I wanted \\U0001fae0'}\n",
            "{'id': 1517593494256291841, 'username': 'PutMeInCoach627', 'created_at': 'Fri Apr 22 19:57:39 +0000 2022', 'lng': -91.0907995, 'lat': 30.4591, 'text': 'Couldnt have been me😮\\u200d💨 https://t.co/h8GDdiTYVe'}\n",
            "{'id': 1517593503144058890, 'username': 'whs39042', 'created_at': 'Fri Apr 22 19:57:41 +0000 2022', 'lng': -90.1580165, 'lat': 32.230987, 'text': '@Lisa23_100 It’s a 3 day weekend here due to a State Holiday on Monday so I definitely need to work on something non work related! 🇺🇸'}\n",
            "{'id': 1517593505299902464, 'username': 'cresson_melissa', 'created_at': 'Fri Apr 22 19:57:41 +0000 2022', 'lng': -91.0907995, 'lat': 30.4591, 'text': 'I see lots of road trips to B’ham in my future!'}\n",
            "{'id': 1517593542138515457, 'username': 'imdjmaajor', 'created_at': 'Fri Apr 22 19:57:50 +0000 2022', 'lng': -91.40100849999999, 'lat': 30.937336000000002, 'text': 'come on brudda 😂'}\n",
            "{'id': 1517593553119203328, 'username': 'Mjsfetishes', 'created_at': 'Fri Apr 22 19:57:53 +0000 2022', 'lng': -85.9785995, 'lat': 35.8305215, 'text': '@DevanDixon4 I don’t need his help. I simply wanted to give him the neighborly courtesy of using the folks that ori… https://t.co/mjvw7M4rS9'}\n",
            "{'id': 1517593581543837697, 'username': 'tmj_mem_nursing', 'created_at': 'Fri Apr 22 19:58:00 +0000 2022', 'lng': -90.0489801, 'lat': 35.1495343, 'text': 'Click the link in our bio to see currently open #Nursing jobs like \"Inpatient Services Program Manager I\" at Fresen… https://t.co/GQyW3LXSHz'}\n",
            "{'id': 1517593586002448386, 'username': 'AftonAphmau', 'created_at': 'Fri Apr 22 19:58:01 +0000 2022', 'lng': -92.13127399999999, 'lat': 34.7519365, 'text': '@DestroyerKiev All three dear'}\n",
            "{'id': 1517593599331942400, 'username': 'Kj_aMF', 'created_at': 'Fri Apr 22 19:58:04 +0000 2022', 'lng': -85.9785995, 'lat': 35.8305215, 'text': 'proud of lil ole mckenzie .. cos we turnt da lil city up last night 🤣🤣'}\n",
            "{'id': 1517593640327127042, 'username': 'ChuckNasty870', 'created_at': 'Fri Apr 22 19:58:14 +0000 2022', 'lng': -89.92202900000001, 'lat': 35.1335205, 'text': '@FQArkansas Tomrorow night! What’s your favorite song? I’ll shoot you some video.'}\n",
            "{'id': 1517593641010835459, 'username': 'sarahvogel__', 'created_at': 'Fri Apr 22 19:58:14 +0000 2022', 'lng': -92.13127399999999, 'lat': 34.7519365, 'text': '@ash8198 Basically what happened. and that’s how they treat all of them now. it’s stupid'}\n",
            "{'id': 1517593681821380608, 'username': 'BaseballOakdale', 'created_at': 'Fri Apr 22 19:58:23 +0000 2022', 'lng': -85.9785995, 'lat': 35.8305215, 'text': 'Eagles sweep double header with Sunbright 12-1 and 10-0. #OakdaleBaseball #GBR #oneOakdale'}\n",
            "{'id': 1517593689308241920, 'username': 'AutumnDamnIt', 'created_at': 'Fri Apr 22 19:58:25 +0000 2022', 'lng': -92.13127399999999, 'lat': 34.7519365, 'text': '@stacyryburn Ask him about the damned old rodeo.'}\n",
            "{'id': 1517593710132973568, 'username': 'falconfans_', 'created_at': 'Fri Apr 22 19:58:30 +0000 2022', 'lng': -89.87644900000001, 'lat': 32.571032, 'text': 'round 1 of 🥎 &amp; ⚾️ playoffs!the girls have Hamilton boys have jumpertown'}\n",
            "{'id': 1517593713454768128, 'username': 'GeorgeDockery', 'created_at': 'Fri Apr 22 19:58:31 +0000 2022', 'lng': -86.6807375, 'lat': 32.576227, 'text': '@DailyCaller Pres Obama... The King of disinformation.1. Benghazi attack caused by anti Muslim movie. Wrong2. Rus… https://t.co/yERx5XhEJm'}\n",
            "{'id': 1517593714620829696, 'username': 'SamieFetzer2', 'created_at': 'Fri Apr 22 19:58:31 +0000 2022', 'lng': -89.92202900000001, 'lat': 35.1335205, 'text': '@K_L_E_ but it’s been waiting for you'}\n",
            "{'id': 1517593739874684929, 'username': 'sarahvogel__', 'created_at': 'Fri Apr 22 19:58:37 +0000 2022', 'lng': -92.13127399999999, 'lat': 34.7519365, 'text': '@RandallHogWPS I think so🤷🏼\\u200d♀️'}\n",
            "{'id': 1517593810838163461, 'username': 'BjComedy', 'created_at': 'Fri Apr 22 19:58:54 +0000 2022', 'lng': -91.0907995, 'lat': 30.4591, 'text': 'Tonight at the @BatonImprov we are honored to share the stage with @blackimprovall1! Hosted by @farfancomedy https://t.co/ZChFTQSEth'}\n",
            "{'id': 1517593817612013570, 'username': 'AaronWL42', 'created_at': 'Fri Apr 22 19:58:56 +0000 2022', 'lng': -86.6807375, 'lat': 32.576227, 'text': '@ARservativeMom How about the #WorkFromHome kind? 😉 https://t.co/x0HESUpE86'}\n",
            "{'id': 1517593889087143936, 'username': 'bradxperez', 'created_at': 'Fri Apr 22 19:59:13 +0000 2022', 'lng': -86.6807375, 'lat': 32.576227, 'text': 'my driver is quacked @TheOnePizzaMan https://t.co/KTn64F7jxC'}\n",
            "{'id': 1517593913263022080, 'username': 'PHILLYcheeeez', 'created_at': 'Fri Apr 22 19:59:19 +0000 2022', 'lng': -89.92202900000001, 'lat': 35.1335205, 'text': '@SuperJaxicle You love flops'}\n",
            "{'id': 1517594043395547138, 'username': 'imdjmaajor', 'created_at': 'Fri Apr 22 19:59:50 +0000 2022', 'lng': -91.40100849999999, 'lat': 30.937336000000002, 'text': 'DAY PARTY!! RN POP OUT !! VIOLA RD RUSTON, LA'}\n",
            "{'id': 1517594098005385217, 'username': 'moutoncovewx', 'created_at': 'Fri Apr 22 20:00:03 +0000 2022', 'lng': -92.218675, 'lat': 29.875016, 'text': '83.3F (Feels: 87.2F) - Humidity: 67% - Wind: 5.1mph ESE - Gust: 6.8mph - Pressure: 30.165in #weather https://t.co/75yzNJ23Eh'}\n",
            "{'id': 1517594201743048706, 'username': 'KCLowerElem', 'created_at': 'Fri Apr 22 20:00:27 +0000 2022', 'lng': -89.87644900000001, 'lat': 32.571032, 'text': 'Did you know it’s Earth Day? A perfect spring day to plant beautiful flowers! #aloveforlearningstartshere… https://t.co/BIOPfYAUx8'}\n",
            "{'id': 1517594283846557698, 'username': 'itsdubie', 'created_at': 'Fri Apr 22 20:00:47 +0000 2022', 'lng': -91.06646, 'lat': 30.3878805, 'text': 'You just play yo part right!'}\n",
            "{'id': 1517594299424296965, 'username': 'SUlrich09', 'created_at': 'Fri Apr 22 20:00:51 +0000 2022', 'lng': -89.87644900000001, 'lat': 32.571032, 'text': 'Got to get it done in the classroom as well. First year in high school and received the Gold Award for Academic Hon… https://t.co/Py48iLvQtG'}\n",
            "{'id': 1517594399932358659, 'username': 'GLogan_Musco', 'created_at': 'Fri Apr 22 20:01:15 +0000 2022', 'lng': -89.87644900000001, 'lat': 32.571032, 'text': '@shanerodgers73 @WLsoftball1 @WestLauderdale1 Agreed!'}\n",
            "{'id': 1517594399743614976, 'username': 'Natedoggjones1', 'created_at': 'Fri Apr 22 20:01:15 +0000 2022', 'lng': -88.811566, 'lat': 33.466052, 'text': 'Frosted Brown Sugar Bear is literally Heaven in a cup 🤩😋 https://t.co/QRKzZSrfY2'}\n",
            "{'id': 1517594428788989952, 'username': 'tmj_mem_edu', 'created_at': 'Fri Apr 22 20:01:22 +0000 2022', 'lng': -90.0489801, 'lat': 35.1495343, 'text': 'Want to land a job like \"Research Nurse- Clinical Research Center\" at The University of Tennessee? Applicant tracki… https://t.co/84VehgMCQz'}\n",
            "{'id': 1517594506828394496, 'username': 'Mjsfetishes', 'created_at': 'Fri Apr 22 20:01:40 +0000 2022', 'lng': -85.9785995, 'lat': 35.8305215, 'text': 'FYI: I need someone to pressure clean &amp; paint the roof, a landscaper, a handyman to build some furniture &amp; a person… https://t.co/Nx0mRw6wzC'}\n",
            "{'id': 1517594558103797766, 'username': 'kiriah4real', 'created_at': 'Fri Apr 22 20:01:52 +0000 2022', 'lng': -89.94995399999999, 'lat': 34.3088885, 'text': 'giving #AbbottElementary a try and idk🥴🥴'}\n",
            "{'id': 1517594563363418114, 'username': 'AWFMemphis', 'created_at': 'Fri Apr 22 20:01:54 +0000 2022', 'lng': -89.92202900000001, 'lat': 35.1335205, 'text': 'It’s always darkest before dawn.'}\n",
            "{'id': 1517594604090056707, 'username': 'danielagates', 'created_at': 'Fri Apr 22 20:02:03 +0000 2022', 'lng': -94.1648483, 'lat': 36.0881462, 'text': 'Drinking a Coffee IPA by @fossilcovebrew @ Fossil Cove Brewery — https://t.co/cvMpHOSUmc'}\n",
            "{'id': 1517594672708964353, 'username': 'MyBigSexy', 'created_at': 'Fri Apr 22 20:02:20 +0000 2022', 'lng': -86.6807375, 'lat': 32.576227, 'text': 'Can’t wait to see these fellas! Gonna be a dang good Thursday'}\n",
            "{'id': 1517594683496669189, 'username': 'Hennysmom07', 'created_at': 'Fri Apr 22 20:02:22 +0000 2022', 'lng': -92.13127399999999, 'lat': 34.7519365, 'text': '@JoyceSmileBig Respectfully, I don’t think it was Liz Cheney. My money is on Elise Stefanik…or someone on her team.… https://t.co/lhYagt4oWW'}\n",
            "{'id': 1517594689423085568, 'username': 'tmj_retailjobs', 'created_at': 'Fri Apr 22 20:02:24 +0000 2022', 'lng': -90.0022958, 'lat': 34.9918587, 'text': \"If you're looking for work in #Southaven, MS, check out this job: https://t.co/XFVRQyJWsZ #Retail\"}\n",
            "{'id': 1517594696868061186, 'username': 'TwoCount_Lentz', 'created_at': 'Fri Apr 22 20:02:25 +0000 2022', 'lng': -89.92202900000001, 'lat': 35.1335205, 'text': 'You can’t fight for someone that isn’t willing to be fought for #FridayThoughts'}\n",
            "{'id': 1517594726916104198, 'username': 'sedariahh', 'created_at': 'Fri Apr 22 20:02:33 +0000 2022', 'lng': -91.0907995, 'lat': 30.4591, 'text': 'see if I had a blunt! I would not be crying.'}\n",
            "{'id': 1517594811775307786, 'username': 'bigcelene', 'created_at': 'Fri Apr 22 20:02:53 +0000 2022', 'lng': -89.92202900000001, 'lat': 35.1335205, 'text': '@Ny718allday @nomoresani @Zone15Dre @missshrey_ this tweet hurt mah chest cs i literally bought a humidifier not to… https://t.co/ikvulcqRLQ'}\n",
            "{'id': 1517594867542679557, 'username': 'TommyDa44275748', 'created_at': 'Fri Apr 22 20:03:06 +0000 2022', 'lng': -89.87644900000001, 'lat': 32.571032, 'text': '@Kenny_Mayne AT WHAT COST TO THE AMERICANS PEOPLE?'}\n",
            "{'id': 1517594894205870080, 'username': 'GeorgeDockery', 'created_at': 'Fri Apr 22 20:03:12 +0000 2022', 'lng': -86.6807375, 'lat': 32.576227, 'text': '@DailyCaller 4. Sea levels would be up by now.  Well he bought beachfront property.5.  Tells Russia secretly to wa… https://t.co/n5cPhuKu4w'}\n",
            "{'id': 1517594900656709632, 'username': 'Mjsfetishes', 'created_at': 'Fri Apr 22 20:03:14 +0000 2022', 'lng': -85.9785995, 'lat': 35.8305215, 'text': '@DevanDixon4 He’s choosing the kind of neighbor he wants to have by his attitude. I give people plenty of chances to prove me wrong.'}\n",
            "{'id': 1517594939789656064, 'username': 'Kia3203', 'created_at': 'Fri Apr 22 20:03:23 +0000 2022', 'lng': -90.1580165, 'lat': 32.230987, 'text': '@FetchRewards Taking a walk during lunchtime.'}\n",
            "{'id': 1517594945221271554, 'username': 'schofieldkid249', 'created_at': 'Fri Apr 22 20:03:25 +0000 2022', 'lng': -92.13127399999999, 'lat': 34.7519365, 'text': '@TonyTodd54 Happy Earth Day, Tony. 🌎😉 https://t.co/CitAgRq0qU'}\n",
            "{'id': 1517594956290007042, 'username': 'ty1of1', 'created_at': 'Fri Apr 22 20:03:27 +0000 2022', 'lng': -91.40100849999999, 'lat': 30.937336000000002, 'text': 'KAT said “we in Minnesota now” and got dusted💀💀💀💀💀'}\n",
            "{'id': 1517594982042976264, 'username': 'heidi_seidr', 'created_at': 'Fri Apr 22 20:03:33 +0000 2022', 'lng': -92.13127399999999, 'lat': 34.7519365, 'text': \"I'm having a hectic day. Sorry not around\"}\n"
          ]
        },
        {
          "output_type": "display_data",
          "data": {
            "text/plain": [
              "<IPython.core.display.Javascript object>"
            ],
            "application/javascript": [
              "\n",
              "    async function download(id, filename, size) {\n",
              "      if (!google.colab.kernel.accessAllowed) {\n",
              "        return;\n",
              "      }\n",
              "      const div = document.createElement('div');\n",
              "      const label = document.createElement('label');\n",
              "      label.textContent = `Downloading \"${filename}\": `;\n",
              "      div.appendChild(label);\n",
              "      const progress = document.createElement('progress');\n",
              "      progress.max = size;\n",
              "      div.appendChild(progress);\n",
              "      document.body.appendChild(div);\n",
              "\n",
              "      const buffers = [];\n",
              "      let downloaded = 0;\n",
              "\n",
              "      const channel = await google.colab.kernel.comms.open(id);\n",
              "      // Send a message to notify the kernel that we're ready.\n",
              "      channel.send({})\n",
              "\n",
              "      for await (const message of channel.messages) {\n",
              "        // Send a message to notify the kernel that we're ready.\n",
              "        channel.send({})\n",
              "        if (message.buffers) {\n",
              "          for (const buffer of message.buffers) {\n",
              "            buffers.push(buffer);\n",
              "            downloaded += buffer.byteLength;\n",
              "            progress.value = downloaded;\n",
              "          }\n",
              "        }\n",
              "      }\n",
              "      const blob = new Blob(buffers, {type: 'application/binary'});\n",
              "      const a = document.createElement('a');\n",
              "      a.href = window.URL.createObjectURL(blob);\n",
              "      a.download = filename;\n",
              "      div.appendChild(a);\n",
              "      a.click();\n",
              "      div.remove();\n",
              "    }\n",
              "  "
            ]
          },
          "metadata": {}
        },
        {
          "output_type": "display_data",
          "data": {
            "text/plain": [
              "<IPython.core.display.Javascript object>"
            ],
            "application/javascript": [
              "download(\"download_e3207f08-ec22-4ae6-9f8c-80a37a92d501\", \"geotweets.csv\", 12251)"
            ]
          },
          "metadata": {}
        },
        {
          "output_type": "stream",
          "name": "stdout",
          "text": [
            "the csv has been downloaded to your local computer. The program has been completed successfully.\n"
          ]
        }
      ],
      "source": [
        "if __name__ == \"__main__\":\n",
        "    # These are provided to you through the Twitter API after you create a account\n",
        "    # register a Twitter App to get the keys and access tokens.\n",
        "    output_file = '/gdrive/My Drive/geotweets.csv'\n",
        "\n",
        "    # Apply for your own Twitter API keys at https://developer.twitter.com/en/apply-for-access\n",
        "    consumer_key = \"your_consumer_key\"\n",
        "    consumer_secret = \"your_consumer_secret\"\n",
        "    access_token = \"your_access_token\"\n",
        "    access_token_secret = \"your_access_token_secret\"\n",
        "\n",
        "    myauth = tweepy.OAuthHandler(consumer_key, consumer_secret)\n",
        "    myauth.set_access_token(access_token, access_token_secret)\n",
        "\n",
        "    # LOCATIONS are the longitude, latitude coordinate corners for a box that restricts the\n",
        "    # geographic area from which you will stream tweets. The first two define the southwest\n",
        "    # corner of the box and the second two define the northeast corner of the box.\n",
        "    LOCATIONS = [-91.39, 30.12, -88.06, 35]  # Mississippi\n",
        "  \n",
        "    stream_listener = StreamListener(time_limit=600, file=output_file)      \n",
        "    stream = tweepy.Stream(auth=myauth, listener=stream_listener)\n",
        "    stream.filter(locations=LOCATIONS, languages=['en'], encoding=\"utf-8\")"
      ]
    }
  ],
  "metadata": {
    "colab": {
      "collapsed_sections": [],
      "name": "Lab02.ipynb",
      "provenance": []
    },
    "kernelspec": {
      "display_name": "Python 3",
      "language": "python",
      "name": "python3"
    },
    "language_info": {
      "codemirror_mode": {
        "name": "ipython",
        "version": 3
      },
      "file_extension": ".py",
      "mimetype": "text/x-python",
      "name": "python",
      "nbconvert_exporter": "python",
      "pygments_lexer": "ipython3",
      "version": "3.7.4"
    }
  },
  "nbformat": 4,
  "nbformat_minor": 0
}